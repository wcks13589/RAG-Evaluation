{
 "cells": [
  {
   "cell_type": "code",
   "execution_count": 16,
   "id": "3597db16-de39-4fcc-b90c-c8992878949b",
   "metadata": {},
   "outputs": [
    {
     "name": "stderr",
     "output_type": "stream",
     "text": [
      "huggingface/tokenizers: The current process just got forked, after parallelism has already been used. Disabling parallelism to avoid deadlocks...\n",
      "To disable this warning, you can either:\n",
      "\t- Avoid using `tokenizers` before the fork if possible\n",
      "\t- Explicitly set the environment variable TOKENIZERS_PARALLELISM=(true | false)\n"
     ]
    },
    {
     "name": "stdout",
     "output_type": "stream",
     "text": [
      "\u001b[33mWARNING: Running pip as the 'root' user can result in broken permissions and conflicting behaviour with the system package manager, possibly rendering your system unusable.It is recommended to use a virtual environment instead: https://pip.pypa.io/warnings/venv. Use the --root-user-action option if you know what you are doing and want to suppress this warning.\u001b[0m\u001b[33m\n",
      "\u001b[0m\n",
      "\u001b[1m[\u001b[0m\u001b[34;49mnotice\u001b[0m\u001b[1;39;49m]\u001b[0m\u001b[39;49m A new release of pip is available: \u001b[0m\u001b[31;49m24.2\u001b[0m\u001b[39;49m -> \u001b[0m\u001b[32;49m24.3.1\u001b[0m\n",
      "\u001b[1m[\u001b[0m\u001b[34;49mnotice\u001b[0m\u001b[1;39;49m]\u001b[0m\u001b[39;49m To update, run: \u001b[0m\u001b[32;49mpython -m pip install --upgrade pip\u001b[0m\n",
      "Note: you may need to restart the kernel to use updated packages.\n"
     ]
    }
   ],
   "source": [
    "%pip install -qU  langchain langchain_community langchain_nvidia_ai_endpoints langchain_milvus ragas"
   ]
  },
  {
   "cell_type": "markdown",
   "id": "beb195df-d50c-4298-96a7-63fd1d428e61",
   "metadata": {},
   "source": [
    "## 載入Emebedding"
   ]
  },
  {
   "cell_type": "code",
   "execution_count": 1,
   "id": "b4cd2359-34ff-424d-a55c-3358a29cf253",
   "metadata": {},
   "outputs": [
    {
     "name": "stderr",
     "output_type": "stream",
     "text": [
      "/tmp/ipykernel_78070/3662513192.py:4: LangChainDeprecationWarning: The class `HuggingFaceEmbeddings` was deprecated in LangChain 0.2.2 and will be removed in 1.0. An updated version of the class exists in the :class:`~langchain-huggingface package and should be used instead. To use it run `pip install -U :class:`~langchain-huggingface` and import as `from :class:`~langchain_huggingface import HuggingFaceEmbeddings``.\n",
      "  embeddings = HuggingFaceEmbeddings(model_name=\"BAAI/bge-large-zh-v1.5\")\n",
      "/usr/local/lib/python3.10/dist-packages/tqdm/auto.py:21: TqdmWarning: IProgress not found. Please update jupyter and ipywidgets. See https://ipywidgets.readthedocs.io/en/stable/user_install.html\n",
      "  from .autonotebook import tqdm as notebook_tqdm\n"
     ]
    }
   ],
   "source": [
    "# from langchain_huggingface import HuggingFaceEmbeddings\n",
    "from langchain_community.embeddings import HuggingFaceEmbeddings\n",
    "\n",
    "embeddings = HuggingFaceEmbeddings(model_name=\"BAAI/bge-large-zh-v1.5\")\n",
    "\n",
    "# from langchain_nvidia_ai_endpoints import NVIDIAEmbeddings\n",
    "# embeddings = NVIDIAEmbeddings(model=\"nemollm-embedding\")"
   ]
  },
  {
   "cell_type": "markdown",
   "id": "4add01a1-d62e-4331-be4a-dcd80de6091d",
   "metadata": {},
   "source": [
    "## 創建Milvus的資料庫\n",
    "若已有則無須創建"
   ]
  },
  {
   "cell_type": "code",
   "execution_count": 2,
   "id": "0b868d58-c986-4664-ae16-c263b2469803",
   "metadata": {},
   "outputs": [],
   "source": [
    "from langchain_milvus import Milvus\n",
    "\n",
    "# from langchain_community.vectorstores import Milvus\n",
    "\n",
    "# The easiest way is to use Milvus Lite where everything is stored in a local file.\n",
    "# If you have a Milvus server you can use the server URI such as \"http://localhost:19530\".\n",
    "URI = \"./milvus_example.db\"\n",
    "\n",
    "vector_store = Milvus(\n",
    "    embedding_function=embeddings,\n",
    "    connection_args={\"uri\": URI},\n",
    "    index_params={\"index_type\": \"FLAT\", \"metric_type\": \"L2\"},\n",
    "    auto_id=True,\n",
    ")"
   ]
  },
  {
   "cell_type": "markdown",
   "id": "71c22eac-6a92-4117-9aa1-dea4019d68d4",
   "metadata": {},
   "source": [
    "## 定義文件內容"
   ]
  },
  {
   "cell_type": "code",
   "execution_count": 3,
   "id": "9bf8eace-1326-4280-9a04-061520698a96",
   "metadata": {},
   "outputs": [
    {
     "data": {
      "text/plain": [
       "[455289468186263552,\n",
       " 455289468186263553,\n",
       " 455289468186263554,\n",
       " 455289468186263555,\n",
       " 455289468186263556,\n",
       " 455289468186263557,\n",
       " 455289468186263558,\n",
       " 455289468186263559,\n",
       " 455289468186263560,\n",
       " 455289468186263561]"
      ]
     },
     "execution_count": 3,
     "metadata": {},
     "output_type": "execute_result"
    }
   ],
   "source": [
    "from langchain_core.documents import Document\n",
    "\n",
    "document_1 = Document(\n",
    "    page_content=\"I had chocalate chip pancakes and scrambled eggs for breakfast this morning.\",\n",
    "    metadata={\"source\": \"tweet\"},\n",
    ")\n",
    "\n",
    "document_2 = Document(\n",
    "    page_content=\"The weather forecast for tomorrow is cloudy and overcast, with a high of 62 degrees.\",\n",
    "    metadata={\"source\": \"news\"},\n",
    ")\n",
    "\n",
    "document_3 = Document(\n",
    "    page_content=\"Building an exciting new project with LangChain - come check it out!\",\n",
    "    metadata={\"source\": \"tweet\"},\n",
    ")\n",
    "\n",
    "document_4 = Document(\n",
    "    page_content=\"Robbers broke into the city bank and stole $1 million in cash.\",\n",
    "    metadata={\"source\": \"news\"},\n",
    ")\n",
    "\n",
    "document_5 = Document(\n",
    "    page_content=\"Wow! That was an amazing movie. I can't wait to see it again.\",\n",
    "    metadata={\"source\": \"tweet\"},\n",
    ")\n",
    "\n",
    "document_6 = Document(\n",
    "    page_content=\"Is the new iPhone worth the price? Read this review to find out.\",\n",
    "    metadata={\"source\": \"website\"},\n",
    ")\n",
    "\n",
    "document_7 = Document(\n",
    "    page_content=\"The top 10 soccer players in the world right now.\",\n",
    "    metadata={\"source\": \"website\"},\n",
    ")\n",
    "\n",
    "document_8 = Document(\n",
    "    page_content=\"LangGraph is the best framework for building stateful, agentic applications!\",\n",
    "    metadata={\"source\": \"tweet\"},\n",
    ")\n",
    "\n",
    "document_9 = Document(\n",
    "    page_content=\"The stock market is down 500 points today due to fears of a recession.\",\n",
    "    metadata={\"source\": \"news\"},\n",
    ")\n",
    "\n",
    "document_10 = Document(\n",
    "    page_content=\"I have a bad feeling I am going to get deleted :(\",\n",
    "    metadata={\"source\": \"tweet\"},\n",
    ")\n",
    "\n",
    "documents = [\n",
    "    document_1,\n",
    "    document_2,\n",
    "    document_3,\n",
    "    document_4,\n",
    "    document_5,\n",
    "    document_6,\n",
    "    document_7,\n",
    "    document_8,\n",
    "    document_9,\n",
    "    document_10,\n",
    "]\n",
    "# uuids = [str(uuid4()) for _ in range(len(documents))]\n",
    "\n",
    "vector_store.add_documents(documents=documents)"
   ]
  },
  {
   "cell_type": "code",
   "execution_count": 4,
   "id": "e71e2293-2686-4df4-aabb-f0bb34d1a086",
   "metadata": {},
   "outputs": [],
   "source": [
    "text = \"\"\"\\\n",
    "# 探針卡損壞-Probe Card Damage\n",
    "## 基本資訊\n",
    "- **建立日期**: 2018/07/15 05:30:20\n",
    "- **資訊類別**: 系統連結文件\n",
    "- **文件類別**: CAR\n",
    "- **作者**:\n",
    "  - **姓名**: 1050067 林儀柔 IJLIN1\n",
    "  - **組織**: 6714 京元電子\\總經理室\\品質保證處\\BU1品保品管部\\品質保證三課\n",
    "## 領域與分類\n",
    "- **功能領域**: Process Improvement\n",
    "- **流程領域**: 製造流程->異常處理\n",
    "- **技術領域**: 設備工程(EE)->LCP\n",
    "## 客戶與產品\n",
    "- **客戶與產品型號**: \n",
    "## 內容\n",
    "#16於測試中發生少數dut誤宰，4/2 EE執行手動清針後，續測即發現Wafer下半部All dut fail，確認有P/C damage(PA128AE268-001<br />)及針偏異常.\n",
    " \n",
    "## 附件與參考資料\n",
    "- **相關附件**:\n",
    "- **其他參考URL:**\n",
    "  - http://apmis02.kyec.com.tw/Deltaflow_Client/Request.aspx?activeid=1920247\"\"\""
   ]
  },
  {
   "cell_type": "code",
   "execution_count": 5,
   "id": "8e6904f3-b233-440c-8dd0-7995503eefc5",
   "metadata": {},
   "outputs": [
    {
     "data": {
      "text/plain": [
       "[455289468247343124]"
      ]
     },
     "execution_count": 5,
     "metadata": {},
     "output_type": "execute_result"
    }
   ],
   "source": [
    "vector_store.add_documents(documents=[Document(page_content=text, metadata={\"source\": \"kyec\"})])"
   ]
  },
  {
   "cell_type": "code",
   "execution_count": 6,
   "id": "66f17c17-872d-43d4-866e-f39216b4ca4e",
   "metadata": {},
   "outputs": [],
   "source": [
    "from langchain.text_splitter import SentenceTransformersTokenTextSplitter\n",
    "\n",
    "EMBEDDING_MODEL = \"BAAI/bge-large-zh-v1.5\"\n",
    "CHUNK_SIZE = 100\n",
    "CHUNK_OVERLAP = 20\n",
    "\n",
    "\n",
    "def get_text_splitter(\n",
    "    embedding_model_name=\"BAAI/bge-large-zh-v1.5\", chunk_size=506, chunk_overlap=200\n",
    ") -> SentenceTransformersTokenTextSplitter:\n",
    "    \"\"\"Return the token text splitter instance from langchain.\n",
    "\n",
    "    Returns:\n",
    "        SentenceTransformersTokenTextSplitter: Splitting text to tokens using sentence model tokenizer\n",
    "    \"\"\"\n",
    "    # Chunksize and chunk overlap can up updated using APP_TEXTSPLITTER_CHUNKSIZE and APP_TEXTSPLITTER_CHUNKOVERLAP respectively\n",
    "    return SentenceTransformersTokenTextSplitter(\n",
    "        model_name=embedding_model_name,\n",
    "        tokens_per_chunk=chunk_size,\n",
    "        chunk_overlap=chunk_overlap,\n",
    "    )\n",
    "\n",
    "\n",
    "text_splitter = get_text_splitter(EMBEDDING_MODEL, CHUNK_SIZE, CHUNK_OVERLAP)"
   ]
  },
  {
   "cell_type": "code",
   "execution_count": 7,
   "id": "521f27b9-1762-47be-851c-cf816658e8bb",
   "metadata": {
    "scrolled": true
   },
   "outputs": [],
   "source": [
    "new_documents = text_splitter.create_documents([text], metadatas=[{\"source\": \"kyec\"}])"
   ]
  },
  {
   "cell_type": "code",
   "execution_count": 8,
   "id": "2985c54d-f29f-42cf-9a70-29382e490260",
   "metadata": {},
   "outputs": [
    {
     "data": {
      "text/plain": [
       "[455289468697182230,\n",
       " 455289468697182231,\n",
       " 455289468697182232,\n",
       " 455289468697182233,\n",
       " 455289468697182234]"
      ]
     },
     "execution_count": 8,
     "metadata": {},
     "output_type": "execute_result"
    }
   ],
   "source": [
    "vector_store.add_documents(documents=new_documents)"
   ]
  },
  {
   "cell_type": "markdown",
   "id": "38892b3a-bb80-4dc4-9990-a026dce320f3",
   "metadata": {},
   "source": [
    "## 查詢Milvus資料庫內有多少個Chunks?"
   ]
  },
  {
   "cell_type": "code",
   "execution_count": 9,
   "id": "db715d5a-0777-4254-b188-43f5732014fe",
   "metadata": {},
   "outputs": [
    {
     "name": "stdout",
     "output_type": "stream",
     "text": [
      "Collection 'LangChainCollection' has 16 entities.\n"
     ]
    }
   ],
   "source": [
    "from pymilvus import Collection, connections\n",
    "\n",
    "# 連接到 Milvus\n",
    "connections.connect(uri=URI)\n",
    "# connections.connect(\"LangChainCollection\", host=\"localhost\", port=\"19530\")\n",
    "\n",
    "collection_name = vector_store.collection_name\n",
    "collection = Collection(collection_name)\n",
    "\n",
    "# 查詢資料總數\n",
    "print(f\"Collection '{collection.name}' has {collection.num_entities} entities.\")"
   ]
  },
  {
   "cell_type": "markdown",
   "id": "fc4ee3d4-2b8b-449b-bbed-21900bffaa92",
   "metadata": {},
   "source": [
    "## 刪除Milvus資料庫的內文件"
   ]
  },
  {
   "cell_type": "code",
   "execution_count": 10,
   "id": "e4477790-14ab-4f57-a902-9aa0f1e2a221",
   "metadata": {},
   "outputs": [
    {
     "data": {
      "text/plain": [
       "(insert count: 0, delete count: 6, upsert count: 0, timestamp: 0, success count: 0, err count: 0"
      ]
     },
     "execution_count": 10,
     "metadata": {},
     "output_type": "execute_result"
    }
   ],
   "source": [
    "filename = \"kyec\"\n",
    "## By metadata\n",
    "vector_store.delete(expr=f\"source == '{filename}'\")"
   ]
  },
  {
   "cell_type": "markdown",
   "id": "a4542bcd-f9e5-4219-a44f-84d539416729",
   "metadata": {},
   "source": [
    "## 搜尋資料庫中的文件\n",
    "### 方法一: vector_store.similarity_search()"
   ]
  },
  {
   "cell_type": "code",
   "execution_count": 10,
   "id": "2acaf3e5-3ac5-4120-a667-e084248954a7",
   "metadata": {},
   "outputs": [
    {
     "name": "stdout",
     "output_type": "stream",
     "text": [
      "* Building an exciting new project with LangChain - come check it out! [{'pk': 455289468186263554, 'source': 'tweet'}]\n",
      "* LangGraph is the best framework for building stateful, agentic applications! [{'pk': 455289468186263559, 'source': 'tweet'}]\n",
      "* I had chocalate chip pancakes and scrambled eggs for breakfast this morning. [{'pk': 455289468186263552, 'source': 'tweet'}]\n",
      "* I have a bad feeling I am going to get deleted :( [{'pk': 455289468186263561, 'source': 'tweet'}]\n",
      "* Wow! That was an amazing movie. I can't wait to see it again. [{'pk': 455289468186263556, 'source': 'tweet'}]\n"
     ]
    }
   ],
   "source": [
    "K = 5\n",
    "\n",
    "results = vector_store.similarity_search(\n",
    "    \"LangChain provides abstractions to make working with LLMs easy\",\n",
    "    k=K,\n",
    "    expr='source == \"tweet\"',\n",
    ")\n",
    "\n",
    "for res in results:\n",
    "    print(f\"* {res.page_content} [{res.metadata}]\")"
   ]
  },
  {
   "cell_type": "markdown",
   "id": "2749bcd4-4de7-486b-8cd7-be13af84d4f3",
   "metadata": {},
   "source": [
    "### 方法二: retriever.invoke()"
   ]
  },
  {
   "cell_type": "code",
   "execution_count": 11,
   "id": "928f1ff1-0ea9-4415-a110-b6d26bccd8fd",
   "metadata": {},
   "outputs": [
    {
     "name": "stdout",
     "output_type": "stream",
     "text": [
      "* Building an exciting new project with LangChain - come check it out! [{'pk': 455289468186263554, 'source': 'tweet'}]\n",
      "* LangGraph is the best framework for building stateful, agentic applications! [{'pk': 455289468186263559, 'source': 'tweet'}]\n",
      "* 領 域 * * : 製 造 流 程 - > 異 常 處 理 - * * 技 術 領 域 * * : 設 備 工 程 ( ee ) - > lcp # # 客 戶 與 產 品 - * * 客 戶 與 產 品 型 號 * * : # # 內 容 # 16 於 測 試 中 發 生 少 數 dut 誤 宰 ， 4 / 2 ee 執 行 手 動 清 針 後 ， 續 測 即 發 現 wafer 下 半 部 all du [{'pk': 455289468697182232, 'source': 'kyec'}]\n",
      "* * : 1050067 林 儀 柔 ijlin1 - * * 組 織 * * : 6714 京 元 電 子 \\ 總 經 理 室 \\ 品 質 保 證 處 \\ bu1 品 保 品 管 部 \\ 品 質 保 證 三 課 # # 領 域 與 分 類 - * * 功 能 領 域 * * : process improvement - * * 流 程 領 域 * * : 製 造 流 程 - > 異 常 處 理 - * * 技 術 [{'pk': 455289468697182231, 'source': 'kyec'}]\n",
      "* # 探針卡損壞-Probe Card Damage\n",
      "## 基本資訊\n",
      "- **建立日期**: 2018/07/15 05:30:20\n",
      "- **資訊類別**: 系統連結文件\n",
      "- **文件類別**: CAR\n",
      "- **作者**:\n",
      "  - **姓名**: 1050067 林儀柔 IJLIN1\n",
      "  - **組織**: 6714 京元電子\\總經理室\\品質保證處\\BU1品保品管部\\品質保證三課\n",
      "## 領域與分類\n",
      "- **功能領域**: Process Improvement\n",
      "- **流程領域**: 製造流程->異常處理\n",
      "- **技術領域**: 設備工程(EE)->LCP\n",
      "## 客戶與產品\n",
      "- **客戶與產品型號**: \n",
      "## 內容\n",
      "#16於測試中發生少數dut誤宰，4/2 EE執行手動清針後，續測即發現Wafer下半部All dut fail，確認有P/C damage(PA128AE268-001<br />)及針偏異常.\n",
      " \n",
      "## 附件與參考資料\n",
      "- **相關附件**:\n",
      "- **其他參考URL:**\n",
      "  - http://apmis02.kyec.com.tw/Deltaflow_Client/Request.aspx?activeid=1920247 [{'pk': 455289468247343124, 'source': 'kyec'}]\n"
     ]
    }
   ],
   "source": [
    "retriever = vector_store.as_retriever(\n",
    "    search_kwargs={\"k\": K}\n",
    ")\n",
    "\n",
    "# retriever = vector_store.as_retriever(\n",
    "#     search_kwargs={\"k\": K, \"expr\": 'source == \"tweet\"'}\n",
    "# )\n",
    "\n",
    "retrieved_docs = retriever.invoke(\n",
    "    \"LangChain provides abstractions to make working with LLMs easy\"\n",
    ")\n",
    "\n",
    "for res in retrieved_docs:\n",
    "    print(f\"* {res.page_content} [{res.metadata}]\")"
   ]
  },
  {
   "cell_type": "markdown",
   "id": "733fa858-c82c-4079-a45b-4c33a9f7df45",
   "metadata": {},
   "source": [
    "## 建立RAG的流程"
   ]
  },
  {
   "cell_type": "code",
   "execution_count": 12,
   "id": "b96d3bc9-e4d0-42d7-8c94-c3fea7a94e1c",
   "metadata": {},
   "outputs": [
    {
     "name": "stderr",
     "output_type": "stream",
     "text": [
      "/usr/local/lib/python3.10/dist-packages/langsmith/client.py:256: LangSmithMissingAPIKeyWarning: API key must be provided when using hosted LangSmith API\n",
      "  warnings.warn(\n"
     ]
    }
   ],
   "source": [
    "from langchain import hub\n",
    "from langchain_core.output_parsers import StrOutputParser\n",
    "from langchain_core.runnables import RunnablePassthrough\n",
    "\n",
    "from langchain_nvidia_ai_endpoints import ChatNVIDIA\n",
    "\n",
    "def format_docs(docs):\n",
    "    return \"\\n\\n\".join(doc.page_content for doc in docs)\n",
    "    \n",
    "\n",
    "llm = ChatNVIDIA(\n",
    "    base_url=\"http://0.0.0.0:8000/v1\",\n",
    "    model=\"Qwen/Qwen2.5-7B-Instruct\",\n",
    "    temperature=0.1,\n",
    "    max_tokens=1000,\n",
    "    top_p=1.0,\n",
    ")\n",
    "\n",
    "prompt = hub.pull(\"rlm/rag-prompt\")\n",
    "\n",
    "rag_chain = (\n",
    "    {\"context\": retriever | format_docs, \"question\": RunnablePassthrough()}\n",
    "    | prompt\n",
    "    | llm\n",
    "    | StrOutputParser()\n",
    ")"
   ]
  },
  {
   "cell_type": "code",
   "execution_count": 13,
   "id": "271c938e-4cbf-417e-937f-48dc373ffc69",
   "metadata": {},
   "outputs": [
    {
     "data": {
      "text/plain": [
       "'I don\\'t know the specific context in which \"Task Decomposition\" is being referred to in the provided information. Task Decomposition generally refers to the process of breaking down a complex task into smaller, more manageable sub-tasks.'"
      ]
     },
     "execution_count": 13,
     "metadata": {},
     "output_type": "execute_result"
    }
   ],
   "source": [
    "rag_chain.invoke(\"What is Task Decomposition?\")"
   ]
  },
  {
   "cell_type": "code",
   "execution_count": 14,
   "id": "a18b6fb9-722b-473a-a9cd-5e5668054866",
   "metadata": {},
   "outputs": [
    {
     "data": {
      "text/plain": [
       "'探針卡是由京元電子總經理室品質保證處BU1品保品管部品質保證三課管理的。'"
      ]
     },
     "execution_count": 14,
     "metadata": {},
     "output_type": "execute_result"
    }
   ],
   "source": [
    "question = \"請問探針卡是哪個處室管理的?\"\n",
    "rag_chain.invoke(question)"
   ]
  },
  {
   "cell_type": "code",
   "execution_count": 15,
   "id": "97e204cf-99fa-49a3-91fb-aab291ad13fa",
   "metadata": {},
   "outputs": [],
   "source": [
    "sample_queries = [\n",
    "    \"Who introduced the theory of relativity?\",\n",
    "    \"Who was the first computer programmer?\",\n",
    "    \"What did Isaac Newton contribute to science?\",\n",
    "    \"Who won two Nobel Prizes for research on radioactivity?\",\n",
    "    \"What is the theory of evolution by natural selection?\",\n",
    "]"
   ]
  },
  {
   "cell_type": "code",
   "execution_count": 16,
   "id": "e3bd12e3-0cfa-41d9-96d2-3f8ba06d8a3c",
   "metadata": {},
   "outputs": [],
   "source": [
    "dataset = []\n",
    "\n",
    "for query in sample_queries:\n",
    "    relevant_docs = retriever.invoke(query)\n",
    "    response = rag_chain.invoke(query)\n",
    "    dataset.append(\n",
    "        {\n",
    "            \"user_input\": query,\n",
    "            \"retrieved_contexts\": [page.page_content for page in relevant_docs],\n",
    "            \"response\": response,\n",
    "        }\n",
    "    )"
   ]
  },
  {
   "cell_type": "code",
   "execution_count": 17,
   "id": "029f40a9-e41c-4543-bc07-fef6b5ef6525",
   "metadata": {},
   "outputs": [],
   "source": [
    "from ragas import EvaluationDataset\n",
    "evaluation_dataset = EvaluationDataset.from_list(dataset)"
   ]
  },
  {
   "cell_type": "code",
   "execution_count": 18,
   "id": "c7602d02-bc32-46e1-a62e-fbb7dff0de84",
   "metadata": {},
   "outputs": [
    {
     "name": "stderr",
     "output_type": "stream",
     "text": [
      "Evaluating: 100%|██████████| 10/10 [00:05<00:00,  1.74it/s]\n"
     ]
    },
    {
     "data": {
      "text/plain": [
       "{'answer_relevancy': 0.2000, 'context_utilization': 0.0000}"
      ]
     },
     "execution_count": 18,
     "metadata": {},
     "output_type": "execute_result"
    }
   ],
   "source": [
    "from ragas import evaluate\n",
    "from ragas.llms import LangchainLLMWrapper\n",
    "from ragas.embeddings import LangchainEmbeddingsWrapper\n",
    "\n",
    "\n",
    "evaluator_llm = LangchainLLMWrapper(llm)\n",
    "evaluator_embeddings = retriever.vectorstore.embeddings\n",
    "from ragas.metrics import AnswerRelevancy, Faithfulness, ContextUtilization \n",
    "\n",
    "result = evaluate(dataset=evaluation_dataset,\n",
    "                  metrics=[AnswerRelevancy(), ContextUtilization()],\n",
    "                  llm=evaluator_llm,\n",
    "                  embeddings=evaluator_embeddings\n",
    "                 )\n",
    "result"
   ]
  }
 ],
 "metadata": {
  "kernelspec": {
   "display_name": "Python 3 (ipykernel)",
   "language": "python",
   "name": "python3"
  },
  "language_info": {
   "codemirror_mode": {
    "name": "ipython",
    "version": 3
   },
   "file_extension": ".py",
   "mimetype": "text/x-python",
   "name": "python",
   "nbconvert_exporter": "python",
   "pygments_lexer": "ipython3",
   "version": "3.10.12"
  }
 },
 "nbformat": 4,
 "nbformat_minor": 5
}
